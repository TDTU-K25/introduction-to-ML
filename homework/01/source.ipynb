{
  "nbformat": 4,
  "nbformat_minor": 0,
  "metadata": {
    "colab": {
      "provenance": []
    },
    "kernelspec": {
      "name": "python3",
      "display_name": "Python 3"
    },
    "language_info": {
      "name": "python"
    }
  },
  "cells": [
    {
      "cell_type": "code",
      "source": [
        "import pandas as pd"
      ],
      "metadata": {
        "id": "fenMep68h2dU"
      },
      "execution_count": 489,
      "outputs": []
    },
    {
      "cell_type": "markdown",
      "source": [
        "Read dataset"
      ],
      "metadata": {
        "id": "aBTy207wjEur"
      }
    },
    {
      "cell_type": "code",
      "source": [
        "filename = \"adult.csv\"\n",
        "df = pd.read_csv(filename)\n",
        "data = df.values"
      ],
      "metadata": {
        "id": "NYd6FzmIjE89"
      },
      "execution_count": 490,
      "outputs": []
    },
    {
      "cell_type": "markdown",
      "source": [
        "# Data Cleaning"
      ],
      "metadata": {
        "id": "tnPtfAGaqwo1"
      }
    },
    {
      "cell_type": "markdown",
      "source": [
        "Remove duplicate data"
      ],
      "metadata": {
        "id": "_ybCEJubqz5u"
      }
    },
    {
      "cell_type": "code",
      "source": [
        "print(df.drop_duplicates().values)"
      ],
      "metadata": {
        "colab": {
          "base_uri": "https://localhost:8080/"
        },
        "id": "7eHJyIRdqwT-",
        "outputId": "03bdf8cb-1568-4318-8a91-07629d369558"
      },
      "execution_count": 491,
      "outputs": [
        {
          "output_type": "stream",
          "name": "stdout",
          "text": [
            "[[50 ' Self-emp-not-inc' 83311 ... 13 ' United-States' ' <=50K']\n",
            " [38 ' Private' 215646 ... 40 ' United-States' ' <=50K']\n",
            " [53 ' Private' 234721 ... 40 ' United-States' ' <=50K']\n",
            " ...\n",
            " [58 ' Private' 151910 ... 40 ' United-States' ' <=50K']\n",
            " [22 ' Private' 201490 ... 20 ' United-States' ' <=50K']\n",
            " [52 ' Self-emp-inc' 287927 ... 40 ' United-States' ' >50K']]\n"
          ]
        }
      ]
    },
    {
      "cell_type": "markdown",
      "source": [
        "Handle observation missing data"
      ],
      "metadata": {
        "id": "opuqYfODNW1L"
      }
    },
    {
      "cell_type": "code",
      "source": [
        "df = df.replace(\" ?\", np.NaN)\n",
        "print(df.shape) # before delete observation with missing data\n",
        "df.dropna(subset=[' United-States'], axis=0, inplace=True)\n",
        "print(df.values.shape) # after delete observation with missing data"
      ],
      "metadata": {
        "colab": {
          "base_uri": "https://localhost:8080/"
        },
        "id": "7k8nWFMSNXH3",
        "outputId": "333adcc9-e255-4593-8ae5-c8818e14ad54"
      },
      "execution_count": 492,
      "outputs": [
        {
          "output_type": "stream",
          "name": "stdout",
          "text": [
            "(32560, 15)\n",
            "(31977, 15)\n"
          ]
        }
      ]
    },
    {
      "cell_type": "markdown",
      "source": [
        "Feature selection (Remove irrelevant data)"
      ],
      "metadata": {
        "id": "MXae7i7ksCn9"
      }
    },
    {
      "cell_type": "code",
      "source": [
        "print(df.drop(columns=['39']).shape) # drop feature age and retain other features\n",
        "print(df.shape)"
      ],
      "metadata": {
        "colab": {
          "base_uri": "https://localhost:8080/"
        },
        "id": "5jwN_6k7sC6-",
        "outputId": "4109ffd4-a223-4ba1-8cd2-50ef2b5d4aff"
      },
      "execution_count": 493,
      "outputs": [
        {
          "output_type": "stream",
          "name": "stdout",
          "text": [
            "(31977, 14)\n",
            "(31977, 15)\n"
          ]
        }
      ]
    },
    {
      "cell_type": "markdown",
      "source": [
        "# Data Transformation"
      ],
      "metadata": {
        "id": "0wgBOT1ghieU"
      }
    },
    {
      "cell_type": "markdown",
      "source": [
        "Data trước khi transform"
      ],
      "metadata": {
        "id": "biLKIHHahrFz"
      }
    },
    {
      "cell_type": "code",
      "source": [
        "print(data[0])"
      ],
      "metadata": {
        "colab": {
          "base_uri": "https://localhost:8080/"
        },
        "id": "V8d5vF38ssMM",
        "outputId": "2f2302c0-e585-4c94-b323-082be3e0b184"
      },
      "execution_count": 494,
      "outputs": [
        {
          "output_type": "stream",
          "name": "stdout",
          "text": [
            "[50 ' Self-emp-not-inc' 83311 ' Bachelors' 13 ' Married-civ-spouse'\n",
            " ' Exec-managerial' ' Husband' ' White' ' Male' 0 0 13 ' United-States'\n",
            " ' <=50K']\n"
          ]
        }
      ]
    },
    {
      "cell_type": "markdown",
      "source": [
        "Type của các feature trước khi transform"
      ],
      "metadata": {
        "id": "kKEYqM9NUIP1"
      }
    },
    {
      "cell_type": "code",
      "execution_count": 495,
      "metadata": {
        "id": "qfmotNGozXMD",
        "colab": {
          "base_uri": "https://localhost:8080/"
        },
        "outputId": "03c02af0-cdf8-4f15-a757-fe9d5521f1af"
      },
      "outputs": [
        {
          "output_type": "stream",
          "name": "stdout",
          "text": [
            "39                 int64\n",
            " State-gov        object\n",
            " 77516             int64\n",
            " Bachelors        object\n",
            " 13                int64\n",
            " Never-married    object\n",
            " Adm-clerical     object\n",
            " Not-in-family    object\n",
            " White            object\n",
            " Male             object\n",
            " 2174              int64\n",
            " 0                 int64\n",
            " 40                int64\n",
            " United-States    object\n",
            " <=50K            object\n",
            "dtype: object\n"
          ]
        }
      ],
      "source": [
        "names = list(df.columns)\n",
        "types = df.dtypes\n",
        "print(types)"
      ]
    },
    {
      "cell_type": "markdown",
      "source": [
        "Type của các feature sau khi transform"
      ],
      "metadata": {
        "id": "Knhf_E8SUPZx"
      }
    },
    {
      "cell_type": "code",
      "source": [
        "from sklearn.preprocessing import LabelEncoder\n",
        "le = LabelEncoder()\n",
        "for i in range(len(types)):\n",
        "    if types[i] == 'object':\n",
        "        le.fit_transform(df[names[i]])\n",
        "        df[names[i]] = le.transform(df[names[i]])\n",
        "\n",
        "print(df.dtypes)"
      ],
      "metadata": {
        "colab": {
          "base_uri": "https://localhost:8080/"
        },
        "id": "rK6x0h4miFkz",
        "outputId": "cfed016a-d72c-47ee-86aa-aed4bb931955"
      },
      "execution_count": 496,
      "outputs": [
        {
          "output_type": "stream",
          "name": "stdout",
          "text": [
            "39                int64\n",
            " State-gov        int64\n",
            " 77516            int64\n",
            " Bachelors        int64\n",
            " 13               int64\n",
            " Never-married    int64\n",
            " Adm-clerical     int64\n",
            " Not-in-family    int64\n",
            " White            int64\n",
            " Male             int64\n",
            " 2174             int64\n",
            " 0                int64\n",
            " 40               int64\n",
            " United-States    int64\n",
            " <=50K            int64\n",
            "dtype: object\n"
          ]
        }
      ]
    },
    {
      "cell_type": "markdown",
      "source": [
        "Data sau khi transform"
      ],
      "metadata": {
        "id": "cqtOtYimiGmr"
      }
    },
    {
      "cell_type": "code",
      "source": [
        "data = df.values\n",
        "print(data[0])"
      ],
      "metadata": {
        "colab": {
          "base_uri": "https://localhost:8080/"
        },
        "id": "fGUMZXaUtPVq",
        "outputId": "f94a3251-eae0-4830-d997-e6f3b63698b0"
      },
      "execution_count": 497,
      "outputs": [
        {
          "output_type": "stream",
          "name": "stdout",
          "text": [
            "[   50     5 83311     9    13     2     3     0     4     1     0     0\n",
            "    13    38     0]\n"
          ]
        }
      ]
    },
    {
      "cell_type": "markdown",
      "source": [
        "# Data Normalization"
      ],
      "metadata": {
        "id": "BmeZSXwkN5GW"
      }
    },
    {
      "cell_type": "markdown",
      "source": [
        "Range value of feature age"
      ],
      "metadata": {
        "id": "jmBTv0v8ryJN"
      }
    },
    {
      "cell_type": "code",
      "source": [
        "print(min(df['39']))\n",
        "print(max(df['39']))"
      ],
      "metadata": {
        "colab": {
          "base_uri": "https://localhost:8080/"
        },
        "id": "Mbf_hiQYryZd",
        "outputId": "014d218b-4cfc-43a3-9553-c2cac3ff09e4"
      },
      "execution_count": 498,
      "outputs": [
        {
          "output_type": "stream",
          "name": "stdout",
          "text": [
            "17\n",
            "90\n"
          ]
        }
      ]
    },
    {
      "cell_type": "markdown",
      "source": [
        "Range value of feature fnlwgt"
      ],
      "metadata": {
        "id": "QY8vtGxZNb8J"
      }
    },
    {
      "cell_type": "code",
      "source": [
        "print(min(df[' 77516']))\n",
        "print(max(df[' 77516']))"
      ],
      "metadata": {
        "colab": {
          "base_uri": "https://localhost:8080/"
        },
        "id": "2aC3hbozIIyo",
        "outputId": "a81a3eda-3209-4175-f452-93e4b71482d0"
      },
      "execution_count": 499,
      "outputs": [
        {
          "output_type": "stream",
          "name": "stdout",
          "text": [
            "12285\n",
            "1484705\n"
          ]
        }
      ]
    },
    {
      "cell_type": "markdown",
      "source": [
        "Get features and predictable variable"
      ],
      "metadata": {
        "id": "pSlPBtlMjK_b"
      }
    },
    {
      "cell_type": "code",
      "source": [
        "X = data[:, :-1]\n",
        "y = data[:, -1]"
      ],
      "metadata": {
        "id": "bdazwyVwjPmj"
      },
      "execution_count": 500,
      "outputs": []
    },
    {
      "cell_type": "markdown",
      "source": [
        "Data trước khi Normalization"
      ],
      "metadata": {
        "id": "IKZAvf-Fi1-i"
      }
    },
    {
      "cell_type": "code",
      "source": [
        "print(X[0])"
      ],
      "metadata": {
        "colab": {
          "base_uri": "https://localhost:8080/"
        },
        "id": "tWFZKkCVi1MN",
        "outputId": "f2243177-1231-4be8-8a34-dc0b896dfe4a"
      },
      "execution_count": 501,
      "outputs": [
        {
          "output_type": "stream",
          "name": "stdout",
          "text": [
            "[   50     5 83311     9    13     2     3     0     4     1     0     0\n",
            "    13    38]\n"
          ]
        }
      ]
    },
    {
      "cell_type": "markdown",
      "source": [
        "Data sau khi Normalization"
      ],
      "metadata": {
        "id": "qTsowO4fi9Fy"
      }
    },
    {
      "cell_type": "code",
      "source": [
        "from sklearn.preprocessing import MinMaxScaler\n",
        "scaler = MinMaxScaler()\n",
        "scaler.fit(X)\n",
        "X_scaled = scaler.transform(X)\n",
        "print(X_scaled[1])"
      ],
      "metadata": {
        "colab": {
          "base_uri": "https://localhost:8080/"
        },
        "id": "T-1F9Nexi9nD",
        "outputId": "60c27277-6414-4b32-977c-583185dc8038"
      },
      "execution_count": 502,
      "outputs": [
        {
          "output_type": "stream",
          "name": "stdout",
          "text": [
            "[0.28767123 0.375      0.13811345 0.73333333 0.53333333 0.\n",
            " 0.35714286 0.2        1.         1.         0.         0.\n",
            " 0.39795918 0.95      ]\n"
          ]
        }
      ]
    }
  ]
}